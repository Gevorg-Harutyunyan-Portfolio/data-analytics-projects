{
 "cells": [
  {
   "cell_type": "markdown",
   "id": "d9d94600-b83d-4f45-a8c9-ada09954f26d",
   "metadata": {},
   "source": [
    "## Import Section"
   ]
  },
  {
   "cell_type": "code",
   "execution_count": null,
   "id": "0cbadeba-329d-4f3d-a607-bc360d7582a4",
   "metadata": {},
   "outputs": [],
   "source": [
    "import pandas as pd\n",
    "import numpy as np\n",
    "from datetime import datetime\n",
    "import matplotlib.pyplot as plt"
   ]
  },
  {
   "cell_type": "code",
   "execution_count": null,
   "id": "10df665d-4618-4333-b022-56b79c90cc18",
   "metadata": {},
   "outputs": [],
   "source": [
    "listings = pd.read_csv(\"listings.csv\")\n",
    "calendar = pd.read_csv(\"calendar.csv\")"
   ]
  },
  {
   "cell_type": "markdown",
   "id": "ea591781-cf02-49b2-b58d-5ad5678c2e8e",
   "metadata": {},
   "source": [
    "## Data Cleaning"
   ]
  },
  {
   "cell_type": "code",
   "execution_count": null,
   "id": "854e0df5-d7f4-4923-92f5-1912572d0ea2",
   "metadata": {},
   "outputs": [],
   "source": [
    "listing_columns_to_use = ['id', 'name', 'description','host_location',\n",
    "       'host_listings_count','host_total_listings_count', 'host_identity_verified','latitude', 'longitude',\n",
    "       'property_type', 'room_type', 'accommodates', 'bathrooms', 'bedrooms', 'beds', 'price', 'minimum_nights',\n",
    "       'maximum_nights', 'number_of_reviews','review_scores_rating','instant_bookable','calculated_host_listings_count']\n",
    "calendar_columns_to_use = ['listing_id', 'date', 'available', 'price']"
   ]
  },
  {
   "cell_type": "code",
   "execution_count": null,
   "id": "bdfe1a65-30d4-4b57-b732-358e6cbedf0e",
   "metadata": {},
   "outputs": [],
   "source": [
    "listings = listings[listing_columns_to_use]\n",
    "calendar = calendar[calendar_columns_to_use]"
   ]
  },
  {
   "cell_type": "markdown",
   "id": "196f8826-5c70-414c-bd9f-1618c6bd02a8",
   "metadata": {},
   "source": [
    "#### Columns formatting for listings dataframe"
   ]
  },
  {
   "cell_type": "code",
   "execution_count": null,
   "id": "bdc6ed9d-9f51-44c4-9f42-267f778b90f4",
   "metadata": {},
   "outputs": [],
   "source": [
    "listings[\"price\"] = listings[\"price\"].str.lstrip(\"$\").str.replace(\",\", \"\")\n",
    "listings[\"price\"] = listings[\"price\"].astype(float)\n",
    "listings[\"instant_bookable\"] = listings[\"instant_bookable\"].replace(\"t\",\"True\").replace(\"f\",\"False\")\n",
    "listings[\"host_identity_verified\"] = listings[\"host_identity_verified\"].replace(\"t\",\"True\").replace(\"f\",\"False\")"
   ]
  },
  {
   "cell_type": "markdown",
   "id": "6570032b-24c6-4b7a-8c4b-69ee8fefe48e",
   "metadata": {},
   "source": [
    "#### Columns formatting for calendar dataframe"
   ]
  },
  {
   "cell_type": "code",
   "execution_count": null,
   "id": "174da56b-a66d-438b-b0a0-6b782a212a4d",
   "metadata": {},
   "outputs": [],
   "source": [
    "calendar[\"price\"] = calendar[\"price\"].str.lstrip(\"$\").str.replace(\",\", \"\")\n",
    "calendar[\"price\"] = calendar[\"price\"].astype(float)\n",
    "calendar[\"available\"] = calendar[\"available\"].replace(\"t\",\"True\").replace(\"f\",\"False\")\n",
    "calendar[\"date\"] = calendar[\"date\"].apply(lambda x: datetime.strptime(x, \"%Y-%m-%d\").date())"
   ]
  },
  {
   "cell_type": "code",
   "execution_count": null,
   "id": "e5e0f62e-2074-4660-8f1b-940e7cce3eed",
   "metadata": {},
   "outputs": [],
   "source": [
    "type(calendar[\"price\"][0])"
   ]
  },
  {
   "cell_type": "markdown",
   "id": "9fa6f805-552a-4a50-9734-9cf7ddd47074",
   "metadata": {},
   "source": [
    "#### Drop duplicate values"
   ]
  },
  {
   "cell_type": "code",
   "execution_count": null,
   "id": "386ba21e-5b0c-4c76-92f3-224f24d2c271",
   "metadata": {},
   "outputs": [],
   "source": [
    "listings=listings.drop_duplicates()\n",
    "calendar=calendar.drop_duplicates()"
   ]
  },
  {
   "cell_type": "markdown",
   "id": "a75ce645-0137-4938-80eb-be50321be58a",
   "metadata": {},
   "source": [
    "### Drop rows from listings dataframe where values 'bathrooms'='beds'='price' are None\n",
    "### The same for \"price\" column in calendar dataframe"
   ]
  },
  {
   "cell_type": "code",
   "execution_count": null,
   "id": "6a202fe9-99c7-467f-a751-043289992486",
   "metadata": {},
   "outputs": [],
   "source": [
    "columns_to_check = ['bathrooms', 'beds', 'price']\n",
    "found_nans_in_listing = listings[columns_to_check].isna().all(axis=1)\n",
    "listings = listings[~found_nans_in_listing]\n",
    "\n",
    "found_nans_in_calendar = calendar[\"price\"].isna()\n",
    "calendar = calendar[~found_nans_in_calendar]\n",
    "\n",
    "# Calculate the mean of the column\n",
    "column_mean = listings['column_name'].mean()\n",
    "\n",
    "# Fill NA values with the mean\n",
    "df['column_name'] = df['column_name'].fillna(column_mean)"
   ]
  },
  {
   "cell_type": "code",
   "execution_count": null,
   "id": "c4a4cdbd-4852-4255-9e57-c536c34ab2ed",
   "metadata": {},
   "outputs": [],
   "source": [
    "listings.reset_index(drop=True, inplace=True);\n",
    "calendar.reset_index(drop=True, inplace=True);"
   ]
  },
  {
   "cell_type": "code",
   "execution_count": null,
   "id": "39482a0c-63c5-4846-a15e-0eda9ec931c8",
   "metadata": {},
   "outputs": [],
   "source": [
    "calendar.head(10)"
   ]
  },
  {
   "cell_type": "code",
   "execution_count": null,
   "id": "5a6d9e14-e2e0-4ce6-9d9b-5d62b87999a5",
   "metadata": {},
   "outputs": [],
   "source": [
    "\n",
    "\"\"\"\n",
    "grouped_calendar = calendar.groupby('listing_id').agg({\n",
    "    'price': 'mean',\n",
    "    'available': 'any',  # or 'all' depending on what you want\n",
    "     'date':'any'# first and last date\n",
    "})\n",
    "\"\"\";"
   ]
  },
  {
   "cell_type": "code",
   "execution_count": null,
   "id": "8feadf9b-3f88-42d0-8216-43ac08bb2372",
   "metadata": {},
   "outputs": [],
   "source": [
    "# grouped_calendar.columns = ['_'.join(col).strip() for col in grouped_calendar.columns.values]\n",
    "grouped_calendar"
   ]
  },
  {
   "cell_type": "code",
   "execution_count": null,
   "id": "cd595192-d8e8-4691-9abb-54356898d727",
   "metadata": {},
   "outputs": [],
   "source": [
    "listings.head(10)"
   ]
  },
  {
   "cell_type": "code",
   "execution_count": null,
   "id": "7e639165-660c-40b7-9ea4-5d64137a080f",
   "metadata": {},
   "outputs": [],
   "source": [
    "len(calendar)/len(listings)"
   ]
  },
  {
   "cell_type": "code",
   "execution_count": null,
   "id": "b9a66305-c5b3-496c-9e89-c81520ee1c53",
   "metadata": {},
   "outputs": [],
   "source": [
    "len(listings)"
   ]
  }
 ],
 "metadata": {
  "kernelspec": {
   "display_name": "Python 3 (ipykernel)",
   "language": "python",
   "name": "python3"
  },
  "language_info": {
   "codemirror_mode": {
    "name": "ipython",
    "version": 3
   },
   "file_extension": ".py",
   "mimetype": "text/x-python",
   "name": "python",
   "nbconvert_exporter": "python",
   "pygments_lexer": "ipython3",
   "version": "3.9.19"
  }
 },
 "nbformat": 4,
 "nbformat_minor": 5
}
